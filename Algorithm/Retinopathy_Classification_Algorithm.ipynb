{
 "cells": [
  {
   "cell_type": "code",
   "execution_count": 1,
   "metadata": {},
   "outputs": [
    {
     "name": "stderr",
     "output_type": "stream",
     "text": [
      "Using TensorFlow backend.\n"
     ]
    }
   ],
   "source": [
    "import tensorflow as tf\n",
    "\n",
    "from keras import backend as K\n",
    "\n",
    "from keras.preprocessing.image import load_img\n",
    "from keras.applications.resnet50 import preprocess_input\n",
    "from keras.preprocessing.image import ImageDataGenerator\n",
    "\n",
    "from tensorflow.keras.models import load_model\n",
    "from tensorflow.keras.callbacks import ReduceLROnPlateau\n",
    "\n",
    "from tensorflow.python.keras.applications import ResNet50\n",
    "from tensorflow.python.keras.models import Sequential\n",
    "from tensorflow.python.keras.layers import Dense\n",
    "\n",
    "from tensorflow.python.keras import optimizers\n",
    "from tensorflow.python.saved_model import builder as saved_model_builder\n",
    "from tensorflow.python.saved_model import tag_constants, signature_constants\n",
    "from tensorflow.python.saved_model.signature_def_utils_impl import predict_signature_def\n",
    "from tensorflow.python.keras.callbacks import EarlyStopping, ModelCheckpoint\n",
    "\n",
    "from sklearn.metrics import roc_curve\n",
    "from sklearn.model_selection import train_test_split\n",
    "\n",
    "from math import sqrt\n",
    "from math import pi\n",
    "from math import exp\n",
    "\n",
    "from matplotlib import pyplot as plt\n",
    "\n",
    "from PIL import Image\n",
    "\n",
    "from json_tricks import dump, dumps\n",
    "\n",
    "import matplotlib.image as mpimg\n",
    "import numpy as np\n",
    "import pandas as pd\n",
    "\n",
    "import cv2\n",
    "import base64\n",
    "\n",
    "import os"
   ]
  },
  {
   "cell_type": "code",
   "execution_count": 2,
   "metadata": {},
   "outputs": [],
   "source": [
    "# Fixed for our Hot Dog & Pizza classes\n",
    "NUM_CLASSES = 2\n",
    "\n",
    "# Classification type\n",
    "CLASSIFICATION_TYPE = 'binary'\n",
    "\n",
    "# Fixed for Hot Dog & Pizza color images\n",
    "CHANNELS = 3\n",
    "\n",
    "# AlexNet specific input image size\n",
    "IMAGE_RESIZE = 227\n",
    "\n",
    "# Padding strategy to keep the same image size\n",
    "SAME_PADDING = 'same'\n",
    "\n",
    "# Padding strategy with right and bottom crop\n",
    "VALID_PADDING = 'valid'\n",
    "\n",
    "# Pooling strategy\n",
    "RESNET50_POOLING_AVERAGE = 'avg'\n",
    "\n",
    "# Activation functions\n",
    "CONVOLUTIONAL_LAYER_ACTIVATION = 'relu'\n",
    "DENSE_LAYER_ACTIVATION = 'sigmoid'\n",
    "\n",
    "# Used to evaluate the error\n",
    "OBJECTIVE_FUNCTION = 'binary_crossentropy'\n",
    "\n",
    "# Common accuracy metric for all outputs, but can use different metrics for different output\n",
    "LOSS_METRICS = ['accuracy']\n",
    "\n",
    "# EARLY_STOP_PATIENCE must be < NUM_EPOCHS\n",
    "NUM_EPOCHS = 5\n",
    "EARLY_STOP_PATIENCE = 5\n",
    "\n",
    "# Batch sizes for training and validation\n",
    "BATCH_SIZE_TRAINING = 128\n",
    "BATCH_SIZE_VALIDATION = 64\n",
    "\n",
    "# Generate images\n",
    "GENERATION_RATIO = 1\n",
    "TOTAL_TRAIN_IMAGES = 6400\n",
    "\n",
    "TOTAL_TEST_IMAGES = 1250\n",
    "\n",
    "SCALE = 300\n",
    "\n",
    "# Steps for each epoch\n",
    "STEPS_PER_EPOCH_TRAINING = TOTAL_TRAIN_IMAGES / BATCH_SIZE_TRAINING\n",
    "STEPS_PER_EPOCH_VALIDATION = TOTAL_TEST_IMAGES / BATCH_SIZE_VALIDATION\n",
    "\n",
    "# Using 1 to easily manage mapping between test_generator & prediction\n",
    "BATCH_SIZE_TESTING = 1\n",
    "\n",
    "# Work directory to save the checkpoints\n",
    "WORK_FOLDER = 'working'\n",
    "\n",
    "# Processed images folder name\n",
    "PROCESSED_FOLDER = \"processed\"\n",
    "\n",
    "# Checkpoint file name\n",
    "CHECKPOINT_FILE = 'best.hdf5'\n",
    "\n",
    "# Automatic save and replace mode of the weights\n",
    "MODEL_CHECKPOINT_MODE = 'auto'\n",
    "\n",
    "# The metrics that we want to monitor\n",
    "LOSS_MONITOR = 'val_loss'\n",
    "\n",
    "# Weights file name\n",
    "WEIGHTS_FILE = 'best_weights.h5'\n",
    "\n",
    "# The name of the .h5 file containing the pretrained weights for the ResNet50\n",
    "WEIGHTS_FILE = 'resnet50_weights_notop.h5'"
   ]
  },
  {
   "cell_type": "code",
   "execution_count": 3,
   "metadata": {},
   "outputs": [],
   "source": [
    "# Base folder path for the Hot Dog & Pizza classification images\n",
    "BASE_FOLDER_PATH = os.path.join('datasets', 'kaggle')\n",
    "\n",
    "# The path to the training images\n",
    "TRAIN_FOLDER_PATH = os.path.join(BASE_FOLDER_PATH, 'train')\n",
    "\n",
    "# The path to the validation images\n",
    "VALIDATION_FOLDER_PATH = os.path.join(BASE_FOLDER_PATH, 'valid')\n",
    "\n",
    "# The path to the test images\n",
    "TEST_FOLDER_PATH = os.path.join(BASE_FOLDER_PATH, 'test')\n",
    "\n",
    "# Checkpoint file path\n",
    "CHECKPOINT_FILE_PATH = os.path.join(WORK_FOLDER, CHECKPOINT_FILE)\n",
    "\n",
    "# Weights file path\n",
    "WEIGHTS_FILE_PATH = os.path.join(WORK_FOLDER, WEIGHTS_FILE)\n",
    "\n",
    "# The folder path where we will save the final trained model\n",
    "MODEL_EXPORT_PATH = os.path.join(WORK_FOLDER, \"saved_model\")\n",
    "\n",
    "LABELS_FILE_PATH = os.path.join(BASE_FOLDER_PATH, \"trainLabels.csv\")"
   ]
  },
  {
   "cell_type": "code",
   "execution_count": 4,
   "metadata": {},
   "outputs": [],
   "source": [
    "def create_image_paths(image_path):\n",
    "    image_names = os.listdir(image_path)\n",
    "    image_paths = [os.path.join(image_path, image_name) for image_name in image_names]\n",
    "    return image_paths"
   ]
  },
  {
   "cell_type": "code",
   "execution_count": 5,
   "metadata": {},
   "outputs": [],
   "source": [
    "read = lambda image_name: np.asarray(load_img(image_name, 'uint8'))\n",
    "\n",
    "def read_images(image_path):\n",
    "    image_paths = create_image_paths(image_path)\n",
    "    images = np.array([read(image_path) for image_path in image_paths])\n",
    "    return images"
   ]
  },
  {
   "cell_type": "code",
   "execution_count": 6,
   "metadata": {},
   "outputs": [],
   "source": [
    "read_scale = lambda image_name: np.asarray(load_img(image_name, target_size=(IMAGE_RESIZE, IMAGE_RESIZE)))\n",
    "    \n",
    "def read_scaled_images(image_path):\n",
    "    image_paths = create_image_paths(image_path)\n",
    "    images = np.array([read_scale(image_path) for image_path in image_paths], dtype='uint8')\n",
    "    return images"
   ]
  },
  {
   "cell_type": "code",
   "execution_count": 7,
   "metadata": {},
   "outputs": [],
   "source": [
    "def scaleRadius(img, scale):\n",
    "    x = img[int(img.shape[0]/2), :, :].sum(1)\n",
    "    r = (x>x.mean()/10).sum()/2\n",
    "    s = scale * 1.0 / r\n",
    "    return cv2.resize(img, (0, 0), fx = s, fy = s)"
   ]
  },
  {
   "cell_type": "code",
   "execution_count": 8,
   "metadata": {},
   "outputs": [],
   "source": [
    "def process_image(img_path, target_path, scale):\n",
    "    img = cv2.imread(img_path)\n",
    "    \n",
    "    img = scaleRadius(img, scale)\n",
    "    \n",
    "    img = cv2.addWeighted(img, 4, cv2.GaussianBlur(img, (0 , 0), scale/30) , -4 ,128)\n",
    "    \n",
    "    overlay = np.zeros(img.shape)\n",
    "    \n",
    "    cv2.circle(overlay, (int(img.shape[1]/2), int(img.shape[0]/2)), int(scale * 0.9), (1, 1, 1), -1, 8, 0)\n",
    "    \n",
    "    img = img * overlay + 128 * (1 - overlay)\n",
    "    \n",
    "    cv2.imwrite(target_path, img)"
   ]
  },
  {
   "cell_type": "code",
   "execution_count": 9,
   "metadata": {},
   "outputs": [],
   "source": [
    "def process_images(images, source_path, target_path, verbose=False):\n",
    "    for image in images:\n",
    "        try:\n",
    "            process_image(os.path.join(source_path, image),\n",
    "                          os.path.join(target_path, image),\n",
    "                          SCALE)\n",
    "            if(verbose):\n",
    "                print(\"SUCCESS \" + image)\n",
    "        except:\n",
    "            if(verbose):\n",
    "                print(\"FAIL \" + image)"
   ]
  },
  {
   "cell_type": "code",
   "execution_count": 10,
   "metadata": {},
   "outputs": [],
   "source": [
    "def balance_data(class_size,df):\n",
    "    train_df = df.groupby(['level']).apply(lambda x: x.sample(class_size, replace = True)).reset_index(drop = True)\n",
    "    train_df = train_df.sample(frac=1).reset_index(drop=True)\n",
    "    print('New Data Size:', train_df.shape[0], 'Old Size:', df.shape[0])\n",
    "    train_df['level'].hist(figsize = (10, 5))\n",
    "    return train_df"
   ]
  },
  {
   "cell_type": "code",
   "execution_count": 11,
   "metadata": {},
   "outputs": [],
   "source": [
    "def to_savedmodel(model, export_path):\n",
    "    #Convert the Keras HDF5 model into TensorFlow SavedModel.\n",
    "    K.get_session().run(tf.global_variables_initializer())\n",
    "\n",
    "    builder = saved_model_builder.SavedModelBuilder(export_path)\n",
    "\n",
    "    signature = predict_signature_def(\n",
    "      inputs={'input': model.inputs[0]}, outputs={'income': model.outputs[0]})\n",
    "\n",
    "    with K.get_session() as sess:\n",
    "        builder.add_meta_graph_and_variables(\n",
    "            sess=sess,\n",
    "            tags=[tag_constants.SERVING],\n",
    "            signature_def_map={\n",
    "                signature_constants.DEFAULT_SERVING_SIGNATURE_DEF_KEY: signature\n",
    "            })\n",
    "        builder.save()"
   ]
  },
  {
   "cell_type": "code",
   "execution_count": 12,
   "metadata": {},
   "outputs": [],
   "source": [
    "def predict_class(model, image):\n",
    "    scaled_image = image/255.\n",
    "    y_pred = model.predict_classes([[scaled_image]])\n",
    "    confidence = model.predict([[scaled_image]])\n",
    "    print(\"Predicted class:\")\n",
    "\n",
    "    if y_pred[0][0] == 1:\n",
    "        print(\"Yes\")\n",
    "    else:\n",
    "        print(\"No\")\n",
    "\n",
    "    print(y_pred[0][0])\n",
    "\n",
    "    print(\"Confidence:\")\n",
    "    print(confidence[0][0])"
   ]
  },
  {
   "cell_type": "code",
   "execution_count": 13,
   "metadata": {},
   "outputs": [],
   "source": [
    "read = lambda image_name: np.asarray(load_img(image_name, target_size=(IMAGE_RESIZE, IMAGE_RESIZE)))\n",
    "    \n",
    "def read_images(image_path):\n",
    "    image_names = os.listdir(image_path)\n",
    "    image_paths = [os.path.join(image_path, image_name) for image_name in image_names]\n",
    "    images = np.array([read(image_path) for image_path in image_paths], dtype='uint8')\n",
    "    return images"
   ]
  },
  {
   "cell_type": "code",
   "execution_count": 15,
   "metadata": {},
   "outputs": [],
   "source": [
    "train_images = os.listdir(TRAIN_FOLDER_PATH)"
   ]
  },
  {
   "cell_type": "code",
   "execution_count": 16,
   "metadata": {},
   "outputs": [
    {
     "data": {
      "text/plain": [
       "'datasets\\\\kaggle\\\\train\\\\4190_left.jpeg'"
      ]
     },
     "execution_count": 16,
     "metadata": {},
     "output_type": "execute_result"
    }
   ],
   "source": [
    "os.path.join(TRAIN_FOLDER_PATH, train_images[0])"
   ]
  },
  {
   "cell_type": "code",
   "execution_count": 17,
   "metadata": {},
   "outputs": [],
   "source": [
    "img = cv2.imread(os.path.join(TRAIN_FOLDER_PATH, train_images[0]))"
   ]
  },
  {
   "cell_type": "code",
   "execution_count": 21,
   "metadata": {},
   "outputs": [],
   "source": [
    "process_images(train_images, TRAIN_FOLDER_PATH, os.path.join(TRAIN_FOLDER_PATH, PROCESSED_FOLDER))"
   ]
  },
  {
   "cell_type": "code",
   "execution_count": 89,
   "metadata": {},
   "outputs": [],
   "source": [
    "test_images = os.listdir(TEST_FOLDER_PATH)"
   ]
  },
  {
   "cell_type": "code",
   "execution_count": 90,
   "metadata": {},
   "outputs": [],
   "source": [
    "process_images(test_images, TEST_FOLDER_PATH, os.path.join(TEST_FOLDER_PATH, PROCESSED_FOLDER))"
   ]
  },
  {
   "cell_type": "code",
   "execution_count": 14,
   "metadata": {},
   "outputs": [],
   "source": [
    "validation_images = os.listdir(VALIDATION_FOLDER_PATH)"
   ]
  },
  {
   "cell_type": "code",
   "execution_count": 15,
   "metadata": {},
   "outputs": [],
   "source": [
    "process_images(validation_images, VALIDATION_FOLDER_PATH, os.path.join(VALIDATION_FOLDER_PATH, PROCESSED_FOLDER))"
   ]
  },
  {
   "cell_type": "code",
   "execution_count": 14,
   "metadata": {},
   "outputs": [],
   "source": [
    "df = pd.read_csv(LABELS_FILE_PATH)"
   ]
  },
  {
   "cell_type": "code",
   "execution_count": 15,
   "metadata": {},
   "outputs": [],
   "source": [
    "class_names = {0: \"NO\", 1: \"YES\", 2: \"YES\", 3: \"YES\", 4: \"YES\"}"
   ]
  },
  {
   "cell_type": "code",
   "execution_count": 16,
   "metadata": {},
   "outputs": [],
   "source": [
    "binary_value = {\"NO\": 0, \"YES\": 1}"
   ]
  },
  {
   "cell_type": "code",
   "execution_count": 17,
   "metadata": {},
   "outputs": [],
   "source": [
    "df.level.replace(to_replace=class_names, inplace=True)"
   ]
  },
  {
   "cell_type": "code",
   "execution_count": 18,
   "metadata": {},
   "outputs": [],
   "source": [
    "df.level.replace(to_replace=binary_value, inplace=True)"
   ]
  },
  {
   "cell_type": "code",
   "execution_count": 19,
   "metadata": {},
   "outputs": [
    {
     "data": {
      "text/html": [
       "<div>\n",
       "<style scoped>\n",
       "    .dataframe tbody tr th:only-of-type {\n",
       "        vertical-align: middle;\n",
       "    }\n",
       "\n",
       "    .dataframe tbody tr th {\n",
       "        vertical-align: top;\n",
       "    }\n",
       "\n",
       "    .dataframe thead th {\n",
       "        text-align: right;\n",
       "    }\n",
       "</style>\n",
       "<table border=\"1\" class=\"dataframe\">\n",
       "  <thead>\n",
       "    <tr style=\"text-align: right;\">\n",
       "      <th></th>\n",
       "      <th>image</th>\n",
       "    </tr>\n",
       "    <tr>\n",
       "      <th>level</th>\n",
       "      <th></th>\n",
       "    </tr>\n",
       "  </thead>\n",
       "  <tbody>\n",
       "    <tr>\n",
       "      <th>0</th>\n",
       "      <td>25810</td>\n",
       "    </tr>\n",
       "    <tr>\n",
       "      <th>1</th>\n",
       "      <td>9316</td>\n",
       "    </tr>\n",
       "  </tbody>\n",
       "</table>\n",
       "</div>"
      ],
      "text/plain": [
       "       image\n",
       "level       \n",
       "0      25810\n",
       "1       9316"
      ]
     },
     "execution_count": 19,
     "metadata": {},
     "output_type": "execute_result"
    }
   ],
   "source": [
    "df.pivot_table(index='level', aggfunc=len)"
   ]
  },
  {
   "cell_type": "code",
   "execution_count": 21,
   "metadata": {},
   "outputs": [
    {
     "data": {
      "text/plain": [
       "<matplotlib.axes._subplots.AxesSubplot at 0x22d0d562198>"
      ]
     },
     "execution_count": 21,
     "metadata": {},
     "output_type": "execute_result"
    },
    {
     "data": {
      "image/png": "[encoded data removed]",
      "text/plain": [
       "<Figure size 720x360 with 1 Axes>"
      ]
     },
     "metadata": {
      "needs_background": "light"
     },
     "output_type": "display_data"
    }
   ],
   "source": [
    "df['level'].hist(figsize = (10, 5))"
   ]
  },
  {
   "cell_type": "code",
   "execution_count": 22,
   "metadata": {},
   "outputs": [],
   "source": [
    "df['path'] = df['image'].map(lambda x: os.path.join(os.path.join(TRAIN_FOLDER_PATH, \"processed\"), '{}.jpeg'.format(x)))"
   ]
  },
  {
   "cell_type": "code",
   "execution_count": 23,
   "metadata": {},
   "outputs": [],
   "source": [
    "df['exists'] = df['path'].map(os.path.exists)"
   ]
  },
  {
   "cell_type": "code",
   "execution_count": 24,
   "metadata": {},
   "outputs": [
    {
     "data": {
      "text/plain": [
       "False    34776\n",
       "True       350\n",
       "Name: exists, dtype: int64"
      ]
     },
     "execution_count": 24,
     "metadata": {},
     "output_type": "execute_result"
    }
   ],
   "source": [
    "df['exists'].value_counts()"
   ]
  },
  {
   "cell_type": "code",
   "execution_count": 25,
   "metadata": {},
   "outputs": [],
   "source": [
    "df = df[df['exists']]\n",
    "df = df.drop(columns=['image','exists'])\n",
    "df = df.sample(frac=1).reset_index(drop=True) #shuffle dataframe"
   ]
  },
  {
   "cell_type": "code",
   "execution_count": 26,
   "metadata": {},
   "outputs": [],
   "source": [
    "df['path'] = df['path'].map(lambda x: x.split(\"\\\\\")[-1])"
   ]
  },
  {
   "cell_type": "code",
   "execution_count": 27,
   "metadata": {},
   "outputs": [
    {
     "data": {
      "text/html": [
       "<div>\n",
       "<style scoped>\n",
       "    .dataframe tbody tr th:only-of-type {\n",
       "        vertical-align: middle;\n",
       "    }\n",
       "\n",
       "    .dataframe tbody tr th {\n",
       "        vertical-align: top;\n",
       "    }\n",
       "\n",
       "    .dataframe thead th {\n",
       "        text-align: right;\n",
       "    }\n",
       "</style>\n",
       "<table border=\"1\" class=\"dataframe\">\n",
       "  <thead>\n",
       "    <tr style=\"text-align: right;\">\n",
       "      <th></th>\n",
       "      <th>level</th>\n",
       "      <th>path</th>\n",
       "    </tr>\n",
       "  </thead>\n",
       "  <tbody>\n",
       "    <tr>\n",
       "      <th>0</th>\n",
       "      <td>0</td>\n",
       "      <td>4548_left.jpeg</td>\n",
       "    </tr>\n",
       "    <tr>\n",
       "      <th>1</th>\n",
       "      <td>0</td>\n",
       "      <td>4223_right.jpeg</td>\n",
       "    </tr>\n",
       "    <tr>\n",
       "      <th>2</th>\n",
       "      <td>0</td>\n",
       "      <td>4253_left.jpeg</td>\n",
       "    </tr>\n",
       "    <tr>\n",
       "      <th>3</th>\n",
       "      <td>1</td>\n",
       "      <td>54_right.jpeg</td>\n",
       "    </tr>\n",
       "    <tr>\n",
       "      <th>4</th>\n",
       "      <td>1</td>\n",
       "      <td>4252_right.jpeg</td>\n",
       "    </tr>\n",
       "    <tr>\n",
       "      <th>...</th>\n",
       "      <td>...</td>\n",
       "      <td>...</td>\n",
       "    </tr>\n",
       "    <tr>\n",
       "      <th>345</th>\n",
       "      <td>1</td>\n",
       "      <td>54_left.jpeg</td>\n",
       "    </tr>\n",
       "    <tr>\n",
       "      <th>346</th>\n",
       "      <td>0</td>\n",
       "      <td>60_right.jpeg</td>\n",
       "    </tr>\n",
       "    <tr>\n",
       "      <th>347</th>\n",
       "      <td>1</td>\n",
       "      <td>4545_right.jpeg</td>\n",
       "    </tr>\n",
       "    <tr>\n",
       "      <th>348</th>\n",
       "      <td>1</td>\n",
       "      <td>4196_left.jpeg</td>\n",
       "    </tr>\n",
       "    <tr>\n",
       "      <th>349</th>\n",
       "      <td>0</td>\n",
       "      <td>60_left.jpeg</td>\n",
       "    </tr>\n",
       "  </tbody>\n",
       "</table>\n",
       "<p>350 rows × 2 columns</p>\n",
       "</div>"
      ],
      "text/plain": [
       "     level             path\n",
       "0        0   4548_left.jpeg\n",
       "1        0  4223_right.jpeg\n",
       "2        0   4253_left.jpeg\n",
       "3        1    54_right.jpeg\n",
       "4        1  4252_right.jpeg\n",
       "..     ...              ...\n",
       "345      1     54_left.jpeg\n",
       "346      0    60_right.jpeg\n",
       "347      1  4545_right.jpeg\n",
       "348      1   4196_left.jpeg\n",
       "349      0     60_left.jpeg\n",
       "\n",
       "[350 rows x 2 columns]"
      ]
     },
     "execution_count": 27,
     "metadata": {},
     "output_type": "execute_result"
    }
   ],
   "source": [
    "df"
   ]
  },
  {
   "cell_type": "code",
   "execution_count": 28,
   "metadata": {},
   "outputs": [],
   "source": [
    "train_df, val_df = train_test_split(df,test_size=0.2)"
   ]
  },
  {
   "cell_type": "code",
   "execution_count": 29,
   "metadata": {},
   "outputs": [
    {
     "data": {
      "text/html": [
       "<div>\n",
       "<style scoped>\n",
       "    .dataframe tbody tr th:only-of-type {\n",
       "        vertical-align: middle;\n",
       "    }\n",
       "\n",
       "    .dataframe tbody tr th {\n",
       "        vertical-align: top;\n",
       "    }\n",
       "\n",
       "    .dataframe thead th {\n",
       "        text-align: right;\n",
       "    }\n",
       "</style>\n",
       "<table border=\"1\" class=\"dataframe\">\n",
       "  <thead>\n",
       "    <tr style=\"text-align: right;\">\n",
       "      <th></th>\n",
       "      <th>path</th>\n",
       "    </tr>\n",
       "    <tr>\n",
       "      <th>level</th>\n",
       "      <th></th>\n",
       "    </tr>\n",
       "  </thead>\n",
       "  <tbody>\n",
       "    <tr>\n",
       "      <th>0</th>\n",
       "      <td>200</td>\n",
       "    </tr>\n",
       "    <tr>\n",
       "      <th>1</th>\n",
       "      <td>80</td>\n",
       "    </tr>\n",
       "  </tbody>\n",
       "</table>\n",
       "</div>"
      ],
      "text/plain": [
       "       path\n",
       "level      \n",
       "0       200\n",
       "1        80"
      ]
     },
     "execution_count": 29,
     "metadata": {},
     "output_type": "execute_result"
    }
   ],
   "source": [
    "train_df.pivot_table(index='level', aggfunc=len)"
   ]
  },
  {
   "cell_type": "code",
   "execution_count": 30,
   "metadata": {},
   "outputs": [
    {
     "name": "stdout",
     "output_type": "stream",
     "text": [
      "New Data Size: 400 Old Size: 280\n"
     ]
    },
    {
     "data": {
      "image/png": "[encoded data removed]",
      "text/plain": [
       "<Figure size 720x360 with 1 Axes>"
      ]
     },
     "metadata": {
      "needs_background": "light"
     },
     "output_type": "display_data"
    }
   ],
   "source": [
    "train_df = balance_data(train_df.pivot_table(index='level', aggfunc=len).max().max(),train_df)"
   ]
  },
  {
   "cell_type": "code",
   "execution_count": 31,
   "metadata": {},
   "outputs": [
    {
     "data": {
      "text/html": [
       "<div>\n",
       "<style scoped>\n",
       "    .dataframe tbody tr th:only-of-type {\n",
       "        vertical-align: middle;\n",
       "    }\n",
       "\n",
       "    .dataframe tbody tr th {\n",
       "        vertical-align: top;\n",
       "    }\n",
       "\n",
       "    .dataframe thead th {\n",
       "        text-align: right;\n",
       "    }\n",
       "</style>\n",
       "<table border=\"1\" class=\"dataframe\">\n",
       "  <thead>\n",
       "    <tr style=\"text-align: right;\">\n",
       "      <th></th>\n",
       "      <th>path</th>\n",
       "    </tr>\n",
       "    <tr>\n",
       "      <th>level</th>\n",
       "      <th></th>\n",
       "    </tr>\n",
       "  </thead>\n",
       "  <tbody>\n",
       "    <tr>\n",
       "      <th>0</th>\n",
       "      <td>200</td>\n",
       "    </tr>\n",
       "    <tr>\n",
       "      <th>1</th>\n",
       "      <td>200</td>\n",
       "    </tr>\n",
       "  </tbody>\n",
       "</table>\n",
       "</div>"
      ],
      "text/plain": [
       "       path\n",
       "level      \n",
       "0       200\n",
       "1       200"
      ]
     },
     "execution_count": 31,
     "metadata": {},
     "output_type": "execute_result"
    }
   ],
   "source": [
    "train_df.pivot_table(index='level', aggfunc=len)"
   ]
  },
  {
   "cell_type": "code",
   "execution_count": 32,
   "metadata": {},
   "outputs": [
    {
     "data": {
      "text/plain": [
       "470"
      ]
     },
     "execution_count": 32,
     "metadata": {},
     "output_type": "execute_result"
    }
   ],
   "source": [
    "df = pd.concat([train_df,val_df]) #beginning of this dataframe is the oversampled training set, end is the validation set\n",
    "len(df)"
   ]
  },
  {
   "cell_type": "code",
   "execution_count": 33,
   "metadata": {},
   "outputs": [
    {
     "name": "stdout",
     "output_type": "stream",
     "text": [
      "WARNING:tensorflow:From C:\\Users\\czzo\\AppData\\Local\\Continuum\\anaconda3\\lib\\site-packages\\tensorflow\\python\\ops\\resource_variable_ops.py:435: colocate_with (from tensorflow.python.framework.ops) is deprecated and will be removed in a future version.\n",
      "Instructions for updating:\n",
      "Colocations handled automatically by placer.\n"
     ]
    }
   ],
   "source": [
    "model = Sequential()\n",
    "\n",
    "model.add(ResNet50(include_top = False, pooling = RESNET50_POOLING_AVERAGE, weights = WEIGHTS_FILE))\n",
    "\n",
    "model.add(Dense(1, activation = DENSE_LAYER_ACTIVATION))\n",
    "\n",
    "model.layers[0].trainable = False"
   ]
  },
  {
   "cell_type": "code",
   "execution_count": 34,
   "metadata": {},
   "outputs": [
    {
     "name": "stdout",
     "output_type": "stream",
     "text": [
      "_________________________________________________________________\n",
      "Layer (type)                 Output Shape              Param #   \n",
      "=================================================================\n",
      "resnet50 (Model)             (None, 2048)              23587712  \n",
      "_________________________________________________________________\n",
      "dense (Dense)                (None, 1)                 2049      \n",
      "=================================================================\n",
      "Total params: 23,589,761\n",
      "Trainable params: 2,049\n",
      "Non-trainable params: 23,587,712\n",
      "_________________________________________________________________\n"
     ]
    }
   ],
   "source": [
    "model.summary()"
   ]
  },
  {
   "cell_type": "code",
   "execution_count": 35,
   "metadata": {},
   "outputs": [],
   "source": [
    "sgd = optimizers.SGD(lr = 0.002, decay = 1e-6, momentum = 0.9, nesterov = True)"
   ]
  },
  {
   "cell_type": "code",
   "execution_count": 36,
   "metadata": {},
   "outputs": [],
   "source": [
    "model.compile(optimizer = sgd, loss = OBJECTIVE_FUNCTION, metrics = LOSS_METRICS)"
   ]
  },
  {
   "cell_type": "code",
   "execution_count": 37,
   "metadata": {},
   "outputs": [],
   "source": [
    "cb_early_stopper = EarlyStopping(monitor = LOSS_MONITOR, patience = EARLY_STOP_PATIENCE)\n",
    "\n",
    "cb_checkpointer = ModelCheckpoint(filepath = CHECKPOINT_FILE_PATH, monitor = LOSS_MONITOR, save_best_only = True, mode = MODEL_CHECKPOINT_MODE)\n",
    "\n",
    "learning_rate_reduction = ReduceLROnPlateau(monitor=LOSS_MONITOR, \n",
    "                                            patience=2, \n",
    "                                            verbose=1, \n",
    "                                            factor=0.5, \n",
    "                                            min_lr=1e-7)"
   ]
  },
  {
   "cell_type": "code",
   "execution_count": 38,
   "metadata": {},
   "outputs": [],
   "source": [
    "class_names = {0: \"NO\", 1: \"YES\"}"
   ]
  },
  {
   "cell_type": "code",
   "execution_count": 39,
   "metadata": {},
   "outputs": [],
   "source": [
    "df.level.replace(to_replace=class_names, inplace=True)"
   ]
  },
  {
   "cell_type": "code",
   "execution_count": 40,
   "metadata": {},
   "outputs": [
    {
     "data": {
      "text/plain": [
       "0       NO\n",
       "1       NO\n",
       "2      YES\n",
       "3       NO\n",
       "4       NO\n",
       "      ... \n",
       "320     NO\n",
       "113     NO\n",
       "193    YES\n",
       "90     YES\n",
       "237     NO\n",
       "Name: level, Length: 470, dtype: object"
      ]
     },
     "execution_count": 40,
     "metadata": {},
     "output_type": "execute_result"
    }
   ],
   "source": [
    "df[\"level\"]"
   ]
  },
  {
   "cell_type": "code",
   "execution_count": 41,
   "metadata": {},
   "outputs": [],
   "source": [
    "datagen=ImageDataGenerator(rescale=1./255.,validation_split=0.25)"
   ]
  },
  {
   "cell_type": "code",
   "execution_count": 42,
   "metadata": {},
   "outputs": [
    {
     "name": "stdout",
     "output_type": "stream",
     "text": [
      "Found 353 validated image filenames belonging to 2 classes.\n"
     ]
    }
   ],
   "source": [
    "train_generator=datagen.flow_from_dataframe(\n",
    "    dataframe=df,\n",
    "    directory=os.path.join(TRAIN_FOLDER_PATH, PROCESSED_FOLDER),\n",
    "    x_col=\"path\",\n",
    "    y_col=\"level\",\n",
    "    subset=\"training\",\n",
    "    batch_size=32,\n",
    "    seed=42,\n",
    "    shuffle=True,\n",
    "    class_mode=CLASSIFICATION_TYPE,\n",
    "    target_size=(224,224))"
   ]
  },
  {
   "cell_type": "code",
   "execution_count": 43,
   "metadata": {},
   "outputs": [
    {
     "name": "stdout",
     "output_type": "stream",
     "text": [
      "Found 117 validated image filenames belonging to 2 classes.\n"
     ]
    }
   ],
   "source": [
    "valid_generator=datagen.flow_from_dataframe(\n",
    "    dataframe=df,\n",
    "    directory=os.path.join(TRAIN_FOLDER_PATH, PROCESSED_FOLDER),\n",
    "    x_col=\"path\",\n",
    "    y_col=\"level\",\n",
    "    subset=\"validation\",\n",
    "    batch_size=32,\n",
    "    seed=42,\n",
    "    shuffle=True,\n",
    "    class_mode=CLASSIFICATION_TYPE,\n",
    "    target_size=(224,224))"
   ]
  },
  {
   "cell_type": "code",
   "execution_count": 44,
   "metadata": {},
   "outputs": [],
   "source": [
    "STEP_SIZE_TRAIN=train_generator.n//train_generator.batch_size\n",
    "STEP_SIZE_VALID=valid_generator.n//valid_generator.batch_size"
   ]
  },
  {
   "cell_type": "code",
   "execution_count": 45,
   "metadata": {},
   "outputs": [
    {
     "data": {
      "text/plain": [
       "11"
      ]
     },
     "execution_count": 45,
     "metadata": {},
     "output_type": "execute_result"
    }
   ],
   "source": [
    "STEP_SIZE_TRAIN"
   ]
  },
  {
   "cell_type": "code",
   "execution_count": 46,
   "metadata": {},
   "outputs": [
    {
     "data": {
      "text/plain": [
       "3"
      ]
     },
     "execution_count": 46,
     "metadata": {},
     "output_type": "execute_result"
    }
   ],
   "source": [
    "STEP_SIZE_VALID"
   ]
  },
  {
   "cell_type": "code",
   "execution_count": 47,
   "metadata": {},
   "outputs": [],
   "source": [
    "from PIL import ImageFile\n",
    "ImageFile.LOAD_TRUNCATED_IMAGES = True"
   ]
  },
  {
   "cell_type": "code",
   "execution_count": 48,
   "metadata": {},
   "outputs": [
    {
     "name": "stdout",
     "output_type": "stream",
     "text": [
      "WARNING:tensorflow:From C:\\Users\\czzo\\AppData\\Local\\Continuum\\anaconda3\\lib\\site-packages\\tensorflow\\python\\ops\\math_ops.py:3066: to_int32 (from tensorflow.python.ops.math_ops) is deprecated and will be removed in a future version.\n",
      "Instructions for updating:\n",
      "Use tf.cast instead.\n",
      "Epoch 1/5\n",
      "4/4 [==============================] - 23s 6s/step - loss: 0.6873 - acc: 0.5897\n",
      "12/12 [==============================] - 107s 9s/step - loss: 0.7578 - acc: 0.4873 - val_loss: 0.6873 - val_acc: 0.5897\n",
      "Epoch 2/5\n",
      "4/4 [==============================] - 22s 5s/step - loss: 0.6913 - acc: 0.5556\n",
      "12/12 [==============================] - 87s 7s/step - loss: 0.6909 - acc: 0.5552 - val_loss: 0.6913 - val_acc: 0.5556\n",
      "Epoch 3/5\n",
      "4/4 [==============================] - 23s 6s/step - loss: 0.6923 - acc: 0.5556\n",
      "\n",
      "Epoch 00003: ReduceLROnPlateau reducing learning rate to 0.0010000000474974513.\n",
      "12/12 [==============================] - 92s 8s/step - loss: 0.6274 - acc: 0.6261 - val_loss: 0.6923 - val_acc: 0.5556\n",
      "Epoch 4/5\n",
      "4/4 [==============================] - 23s 6s/step - loss: 0.6852 - acc: 0.5556\n",
      "12/12 [==============================] - 92s 8s/step - loss: 0.5752 - acc: 0.7195 - val_loss: 0.6852 - val_acc: 0.5556\n",
      "Epoch 5/5\n",
      "4/4 [==============================] - 26s 7s/step - loss: 0.7636 - acc: 0.4530\n",
      "12/12 [==============================] - 98s 8s/step - loss: 0.5530 - acc: 0.7535 - val_loss: 0.7636 - val_acc: 0.4530\n"
     ]
    },
    {
     "data": {
      "text/plain": [
       "<tensorflow.python.keras.callbacks.History at 0x22d2f9f26d8>"
      ]
     },
     "execution_count": 48,
     "metadata": {},
     "output_type": "execute_result"
    }
   ],
   "source": [
    "model.fit_generator(generator=train_generator,\n",
    "                    steps_per_epoch=STEP_SIZE_TRAIN,\n",
    "                    validation_data=valid_generator,\n",
    "                    validation_steps=STEP_SIZE_VALID,\n",
    "                    callbacks=[cb_checkpointer, learning_rate_reduction, cb_early_stopper],\n",
    "                    epochs=NUM_EPOCHS\n",
    ")"
   ]
  },
  {
   "cell_type": "code",
   "execution_count": 49,
   "metadata": {},
   "outputs": [],
   "source": [
    "from tensorflow.python.keras.backend import set_session\n",
    "from tensorflow.python.keras.models import load_model\n",
    "\n",
    "sess = tf.Session()\n",
    "graph = tf.get_default_graph()\n",
    "\n",
    "# IMPORTANT: models have to be loaded AFTER SETTING THE SESSION for keras!\n",
    "# Otherwise, their weights will be unavailable in the threads after the session there has been set\n",
    "set_session(sess)"
   ]
  },
  {
   "cell_type": "code",
   "execution_count": 50,
   "metadata": {},
   "outputs": [
    {
     "name": "stdout",
     "output_type": "stream",
     "text": [
      "WARNING:tensorflow:Error in loading the saved optimizer state. As a result, your model is starting with a freshly initialized optimizer.\n"
     ]
    }
   ],
   "source": [
    "loaded_model = load_model(CHECKPOINT_FILE_PATH)"
   ]
  },
  {
   "cell_type": "code",
   "execution_count": 51,
   "metadata": {},
   "outputs": [
    {
     "name": "stdout",
     "output_type": "stream",
     "text": [
      "WARNING:tensorflow:From C:\\Users\\czzo\\AppData\\Local\\Continuum\\anaconda3\\lib\\site-packages\\tensorflow\\python\\saved_model\\signature_def_utils_impl.py:205: build_tensor_info (from tensorflow.python.saved_model.utils_impl) is deprecated and will be removed in a future version.\n",
      "Instructions for updating:\n",
      "This function will only be available through the v1 compatibility library as tf.compat.v1.saved_model.utils.build_tensor_info or tf.compat.v1.saved_model.build_tensor_info.\n",
      "INFO:tensorflow:No assets to save.\n",
      "INFO:tensorflow:No assets to write.\n",
      "INFO:tensorflow:SavedModel written to: working\\saved_model\\saved_model.pb\n"
     ]
    }
   ],
   "source": [
    "to_savedmodel(loaded_model, MODEL_EXPORT_PATH)"
   ]
  },
  {
   "cell_type": "code",
   "execution_count": 52,
   "metadata": {},
   "outputs": [],
   "source": [
    "test_folder_path = os.path.join(TEST_FOLDER_PATH, PROCESSED_FOLDER)"
   ]
  },
  {
   "cell_type": "code",
   "execution_count": 53,
   "metadata": {},
   "outputs": [],
   "source": [
    "test_images = read_images(test_folder_path)"
   ]
  },
  {
   "cell_type": "code",
   "execution_count": 82,
   "metadata": {},
   "outputs": [],
   "source": [
    "index = 10"
   ]
  },
  {
   "cell_type": "code",
   "execution_count": 83,
   "metadata": {},
   "outputs": [
    {
     "data": {
      "text/plain": [
       "40"
      ]
     },
     "execution_count": 83,
     "metadata": {},
     "output_type": "execute_result"
    }
   ],
   "source": [
    "len(test_images)"
   ]
  },
  {
   "cell_type": "code",
   "execution_count": 84,
   "metadata": {},
   "outputs": [],
   "source": [
    "image_names = os.listdir(test_folder_path)"
   ]
  },
  {
   "cell_type": "code",
   "execution_count": 85,
   "metadata": {},
   "outputs": [
    {
     "data": {
      "text/plain": [
       "'49_left.jpeg'"
      ]
     },
     "execution_count": 85,
     "metadata": {},
     "output_type": "execute_result"
    }
   ],
   "source": [
    "image_names[index]"
   ]
  },
  {
   "cell_type": "code",
   "execution_count": 86,
   "metadata": {},
   "outputs": [
    {
     "data": {
      "text/plain": [
       "(227, 227, 3)"
      ]
     },
     "execution_count": 86,
     "metadata": {},
     "output_type": "execute_result"
    }
   ],
   "source": [
    "test_images[index].shape"
   ]
  },
  {
   "cell_type": "code",
   "execution_count": 87,
   "metadata": {},
   "outputs": [
    {
     "data": {
      "text/plain": [
       "<matplotlib.image.AxesImage at 0x22d90ba8ac8>"
      ]
     },
     "execution_count": 87,
     "metadata": {},
     "output_type": "execute_result"
    },
    {
     "data": {
      "image/png": "[encoded data removed]",
      "text/plain": [
       "<Figure size 432x288 with 1 Axes>"
      ]
     },
     "metadata": {
      "needs_background": "light"
     },
     "output_type": "display_data"
    }
   ],
   "source": [
    "plt.imshow(test_images[index])"
   ]
  },
  {
   "cell_type": "code",
   "execution_count": 88,
   "metadata": {},
   "outputs": [
    {
     "name": "stdout",
     "output_type": "stream",
     "text": [
      "Predicted class:\n",
      "No\n",
      "0\n",
      "Confidence:\n",
      "0.29404\n"
     ]
    }
   ],
   "source": [
    "predict_class(loaded_model, test_images[index])"
   ]
  },
  {
   "cell_type": "code",
   "execution_count": null,
   "metadata": {},
   "outputs": [],
   "source": []
  }
 ],
 "metadata": {
  "kernelspec": {
   "display_name": "Python 3",
   "language": "python",
   "name": "python3"
  },
  "language_info": {
   "codemirror_mode": {
    "name": "ipython",
    "version": 3
   },
   "file_extension": ".py",
   "mimetype": "text/x-python",
   "name": "python",
   "nbconvert_exporter": "python",
   "pygments_lexer": "ipython3",
   "version": "3.6.9"
  }
 },
 "nbformat": 4,
 "nbformat_minor": 2
}
